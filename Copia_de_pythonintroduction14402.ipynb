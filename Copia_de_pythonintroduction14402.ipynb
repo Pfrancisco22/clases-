{
  "nbformat": 4,
  "nbformat_minor": 0,
  "metadata": {
    "colab": {
      "provenance": [],
      "authorship_tag": "ABX9TyOIEZzMFDwmPjZNDe9ERIoW",
      "include_colab_link": true
    },
    "kernelspec": {
      "name": "python3",
      "display_name": "Python 3"
    },
    "language_info": {
      "name": "python"
    }
  },
  "cells": [
    {
      "cell_type": "markdown",
      "metadata": {
        "id": "view-in-github",
        "colab_type": "text"
      },
      "source": [
        "<a href=\"https://colab.research.google.com/github/Pfrancisco22/clases-/blob/main/Copia_de_pythonintroduction14402.ipynb\" target=\"_parent\"><img src=\"https://colab.research.google.com/assets/colab-badge.svg\" alt=\"Open In Colab\"/></a>"
      ]
    },
    {
      "cell_type": "markdown",
      "source": [
        "# mis apuntes de pyton\n",
        "### fundamentos de programación 202420\n",
        "**nombre:** francisco posada\n",
        "\n",
        "__email:__  francisco.posada@upb.edu.co\n",
        "\n",
        "*fecha de creacion:* 20 de agosto, 2024\n",
        "\n",
        "_excelsius!_\n"
      ],
      "metadata": {
        "id": "joM4kS10rhdb"
      }
    },
    {
      "cell_type": "code",
      "execution_count": null,
      "metadata": {
        "colab": {
          "base_uri": "https://localhost:8080/"
        },
        "id": "KuobrS2ordbc",
        "outputId": "9df6e606-3591-4612-e8a4-9591179702da"
      },
      "outputs": [
        {
          "output_type": "stream",
          "name": "stdout",
          "text": [
            "Mi nombre es francisco posada\n",
            "hola,mi nombre es francisco tengo 18 años y soy de yarumal\n",
            "12.5\n",
            "<class 'int'>\n",
            "<class 'float'>\n",
            "<class 'float'>\n"
          ]
        }
      ],
      "source": [
        "# Mis primeros pasos con python\n",
        "\n",
        "print(\"Mi nombre es francisco posada\")\n",
        "name = \"francisco\"\n",
        "\n",
        "age = 18\n",
        "city= \"yarumal\"\n",
        "print(\"hola,mi nombre es\", name,\"tengo\", age, \"años y soy de\",city)\n",
        "# números\n",
        "a = 10\n",
        "b = 2.5\n",
        "c = a + b\n",
        "print(c)\n",
        "# tipo de datos\n",
        "print(type(a))\n",
        "print(type(b))\n",
        "print(type(c))"
      ]
    },
    {
      "cell_type": "code",
      "source": [
        "# operaciones matemáticas básicas\n",
        "\n",
        "print(3 + 2) # suma\n",
        "print(3 - 2) # resta\n",
        "print(3 *2) # multiplicación\n",
        "print(3/2) # división"
      ],
      "metadata": {
        "colab": {
          "base_uri": "https://localhost:8080/"
        },
        "id": "xegwW7zVzUd7",
        "outputId": "70a15631-bffb-4e1d-bab1-18a4cfdbd37b"
      },
      "execution_count": null,
      "outputs": [
        {
          "output_type": "stream",
          "name": "stdout",
          "text": [
            "5\n",
            "1\n",
            "6\n",
            "1.5\n"
          ]
        }
      ]
    },
    {
      "cell_type": "code",
      "source": [
        " # concatenación\n",
        " name = \"francisco\"\n",
        "lastname = \"posada\"\n",
        "fullname = name + ' ' + lastname\n",
        "print(fullname)\n",
        "# print ((fullname + '')* 2)\n",
        "print(\"-\" * 20)"
      ],
      "metadata": {
        "colab": {
          "base_uri": "https://localhost:8080/"
        },
        "id": "5e_irUmY1VEt",
        "outputId": "963433b3-92b9-42b8-ab0a-d845f69adff6"
      },
      "execution_count": null,
      "outputs": [
        {
          "output_type": "stream",
          "name": "stdout",
          "text": [
            "francisco posada\n",
            "--------------------\n"
          ]
        }
      ]
    },
    {
      "cell_type": "code",
      "source": [
        " # incrementos\n",
        "\n",
        " a = 20\n",
        " print(\"a=\", a)\n",
        " b = 10\n",
        " a += b\n",
        " print(\"a=\", a)\n",
        " a -= b\n",
        " print(\"a =\", a)\n",
        " a *= b\n",
        " print(\"a=\", a)\n",
        " a /= b\n",
        " print(\"a=\", a)\n"
      ],
      "metadata": {
        "colab": {
          "base_uri": "https://localhost:8080/"
        },
        "id": "Nqo66ErT1w3G",
        "outputId": "19f84d2c-9f88-4f9e-cb5e-3955944309c7"
      },
      "execution_count": null,
      "outputs": [
        {
          "output_type": "stream",
          "name": "stdout",
          "text": [
            "a= 20\n",
            "a= 30\n",
            "a = 20\n",
            "a= 200\n",
            "a= 20.0\n"
          ]
        }
      ]
    },
    {
      "cell_type": "code",
      "source": [
        " # Multi-line\n",
        " song = \"\"\"Y no tengo pensado hundirme acá tirado Y no tengo planeado morirme desangrado Y no-oh-oh, no me pidas que no vuelva a intentar \"\"\"\n",
        "\n"
      ],
      "metadata": {
        "id": "iPvVOXVV4NKe"
      },
      "execution_count": null,
      "outputs": []
    },
    {
      "cell_type": "code",
      "source": [],
      "metadata": {
        "id": "geYJBwZU4-QR"
      },
      "execution_count": null,
      "outputs": []
    }
  ]
}