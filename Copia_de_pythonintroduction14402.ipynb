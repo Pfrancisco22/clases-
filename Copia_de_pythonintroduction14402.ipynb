{
  "nbformat": 4,
  "nbformat_minor": 0,
  "metadata": {
    "colab": {
      "provenance": [],
      "authorship_tag": "ABX9TyOTQLSZaSMg9lz7tIgmrWEq",
      "include_colab_link": true
    },
    "kernelspec": {
      "name": "python3",
      "display_name": "Python 3"
    },
    "language_info": {
      "name": "python"
    }
  },
  "cells": [
    {
      "cell_type": "markdown",
      "metadata": {
        "id": "view-in-github",
        "colab_type": "text"
      },
      "source": [
        "<a href=\"https://colab.research.google.com/github/Pfrancisco22/clases-/blob/main/Copia_de_pythonintroduction14402.ipynb\" target=\"_parent\"><img src=\"https://colab.research.google.com/assets/colab-badge.svg\" alt=\"Open In Colab\"/></a>"
      ]
    },
    {
      "cell_type": "markdown",
      "source": [
        "# mis apuntes de pyton\n",
        "### fundamentos de programación 202420\n",
        "**nombre:** francisco posada\n",
        "\n",
        "__email:__  francisco.posada@upb.edu.co\n",
        "\n",
        "*fecha de creacion:* 20 de agosto, 2024\n",
        "\n",
        "_excelsius!_\n"
      ],
      "metadata": {
        "id": "joM4kS10rhdb"
      }
    },
    {
      "cell_type": "code",
      "execution_count": null,
      "metadata": {
        "colab": {
          "base_uri": "https://localhost:8080/"
        },
        "id": "KuobrS2ordbc",
        "outputId": "9df6e606-3591-4612-e8a4-9591179702da"
      },
      "outputs": [
        {
          "output_type": "stream",
          "name": "stdout",
          "text": [
            "Mi nombre es francisco posada\n",
            "hola,mi nombre es francisco tengo 18 años y soy de yarumal\n",
            "12.5\n",
            "<class 'int'>\n",
            "<class 'float'>\n",
            "<class 'float'>\n"
          ]
        }
      ],
      "source": [
        "# Mis primeros pasos con python\n",
        "\n",
        "print(\"Mi nombre es francisco posada\")\n",
        "name = \"francisco\"\n",
        "\n",
        "age = 18\n",
        "city= \"yarumal\"\n",
        "print(\"hola,mi nombre es\", name,\"tengo\", age, \"años y soy de\",city)\n",
        "# números\n",
        "a = 10\n",
        "b = 2.5\n",
        "c = a + b\n",
        "print(c)\n",
        "# tipo de datos\n",
        "print(type(a))\n",
        "print(type(b))\n",
        "print(type(c))"
      ]
    },
    {
      "cell_type": "code",
      "source": [
        "# operaciones matemáticas básicas\n",
        "\n",
        "print(3 + 2) # suma\n",
        "print(3 - 2) # resta\n",
        "print(3 *2) # multiplicación\n",
        "print(3/2) # división"
      ],
      "metadata": {
        "colab": {
          "base_uri": "https://localhost:8080/"
        },
        "id": "xegwW7zVzUd7",
        "outputId": "70a15631-bffb-4e1d-bab1-18a4cfdbd37b"
      },
      "execution_count": null,
      "outputs": [
        {
          "output_type": "stream",
          "name": "stdout",
          "text": [
            "5\n",
            "1\n",
            "6\n",
            "1.5\n"
          ]
        }
      ]
    },
    {
      "cell_type": "code",
      "source": [
        " # concatenación\n",
        " name = \"francisco\"\n",
        "lastname = \"posada\"\n",
        "fullname = name + ' ' + lastname\n",
        "print(fullname)\n",
        "# print ((fullname + '')* 2)\n",
        "print(\"-\" * 20)"
      ],
      "metadata": {
        "colab": {
          "base_uri": "https://localhost:8080/"
        },
        "id": "5e_irUmY1VEt",
        "outputId": "963433b3-92b9-42b8-ab0a-d845f69adff6"
      },
      "execution_count": null,
      "outputs": [
        {
          "output_type": "stream",
          "name": "stdout",
          "text": [
            "francisco posada\n",
            "--------------------\n"
          ]
        }
      ]
    },
    {
      "cell_type": "code",
      "source": [
        " # incrementos\n",
        "\n",
        " a = 20\n",
        " print(\"a=\", a)\n",
        " b = 10\n",
        " a += b\n",
        " print(\"a=\", a)\n",
        " a -= b\n",
        " print(\"a =\", a)\n",
        " a *= b\n",
        " print(\"a=\", a)\n",
        " a /= b\n",
        " print(\"a=\", a)\n"
      ],
      "metadata": {
        "colab": {
          "base_uri": "https://localhost:8080/"
        },
        "id": "Nqo66ErT1w3G",
        "outputId": "19f84d2c-9f88-4f9e-cb5e-3955944309c7"
      },
      "execution_count": null,
      "outputs": [
        {
          "output_type": "stream",
          "name": "stdout",
          "text": [
            "a= 20\n",
            "a= 30\n",
            "a = 20\n",
            "a= 200\n",
            "a= 20.0\n"
          ]
        }
      ]
    },
    {
      "cell_type": "code",
      "source": [
        " # Multi-line\n",
        " song = \"\"\"Y no tengo pensado hundirme acá tirado Y no tengo planeado morirme desangrado Y no-oh-oh, no me pidas que no vuelva a intentar \"\"\"\n",
        "\n"
      ],
      "metadata": {
        "id": "iPvVOXVV4NKe"
      },
      "execution_count": null,
      "outputs": []
    },
    {
      "cell_type": "code",
      "source": [
        "\n",
        "#PROGRAMA PARA CALCULAR LA UTILIDAD EN EL NEGOCIO DE VENTA DE VIVIENDAS REMODELADAS\n",
        "\n",
        "#Datos\n",
        "preciocompra= float(input(\"ingrese el precio de compra de la vivienda: \"))\n",
        "\n",
        "costoremodelar= float(input(\"ingrese el costo de remodelacion de la vivienda: \"))\n",
        "precioventa= float(input(\"ingrese el precio de venta de la vivienda: \"))\n",
        "Pcomision= float(input(\"ingrese el porcentaje de comision: \")) /100\n",
        "#calculos\n",
        "comision = precioventa*Pcomision\n",
        "utilidad = precioventa - (preciocompra + costoremodelar + comision)\n",
        "\n",
        "#resultados\n",
        "print(\"la utilidad de la venta de la vivienda fue de \", utilidad)\n"
      ],
      "metadata": {
        "id": "geYJBwZU4-QR",
        "colab": {
          "base_uri": "https://localhost:8080/"
        },
        "outputId": "3407a093-f8f6-4cac-ae45-f00e333816da"
      },
      "execution_count": 4,
      "outputs": [
        {
          "output_type": "stream",
          "name": "stdout",
          "text": [
            "ingrese el precio de compra de la vivienda: 200\n",
            "ingrese el costo de remodelacion de la vivienda: 20\n",
            "ingrese el precio de venta de la vivienda: 400\n",
            "ingrese el porcentaje de comision: 10\n",
            "la utilidad de la venta de la vivienda fue de  140.0\n"
          ]
        }
      ]
    },
    {
      "cell_type": "code",
      "source": [
        "#PROGRAMA PARA CALCULAR EL AREA DE UN CIRCULO\n",
        "\n",
        "PI = 3.141592\n",
        "\n",
        "#Datos\n",
        "radius = float(input(\"ingrese el valor del radio (m): \"))\n",
        "\n",
        "# calculos\n",
        "areacirc = PI * radius ** 2\n",
        "#resultados\n",
        "print(\"el area del circulo con radio\", radius, \"m es\", areacirc, \"m2.\")"
      ],
      "metadata": {
        "colab": {
          "base_uri": "https://localhost:8080/"
        },
        "id": "4fQa1bYwBf9W",
        "outputId": "2af49ffa-0184-42bf-83a9-86b4b98cfcbf"
      },
      "execution_count": 7,
      "outputs": [
        {
          "output_type": "stream",
          "name": "stdout",
          "text": [
            "ingrese el valor del radio (m): 4\n",
            "el area del circulo con radio 4.0 m es 50.265472 m2.\n"
          ]
        }
      ]
    },
    {
      "cell_type": "code",
      "source": [
        "#PROGRAMA PARA CALCULAR CANTIDADES DE MATERIA PRIMA PARA HACER MUFLIMS\n",
        "LECHE = 24\n",
        "HARINA = 28\n",
        "LEVADURA = 3\n",
        "SAL = 0.25\n",
        "AZUCAR = 10\n",
        "HUEVOS = 0.2\n",
        "MANTEQUILLA = 1.5\n",
        "#DATOS\n",
        "muflins = int(input(\"ingrese la cantidad de MUFLINS: \"))\n",
        "print(\"para hacer\", muflins, \"muflins:\")\n",
        "print(\"- LECHE: \", LECHE * muflins, \"ml\")\n",
        "print(\"- HARINA: \", HARINA * muflins, \"g\")\n",
        "print(\"- LEVADURA: \", LEVADURA * muflins, \"g\")\n",
        "print(\"- SAL: \", SAL * muflins, \"g\")\n",
        "print(\"- AZUCAR:\", AZUCAR * muflins, \"g\")\n",
        "print(\"- HUEVOS: \", HUEVOS * muflins, \"unidades\")\n",
        "print(\"- MANTEQUILLA: \", MANTEQUILLA * muflins, \"g\")\n",
        "\n"
      ],
      "metadata": {
        "colab": {
          "base_uri": "https://localhost:8080/"
        },
        "id": "cLpzqgH1HZS2",
        "outputId": "8b38addd-969c-43b8-a07d-147062e397fe"
      },
      "execution_count": 13,
      "outputs": [
        {
          "output_type": "stream",
          "name": "stdout",
          "text": [
            "ingrese la cantidad de MUFLINS: 9\n",
            "para hacer 9 muflins:\n",
            "- LECHE:  216 ml\n",
            "- HARINA:  252 g\n",
            "- LEVADURA:  27 g\n",
            "- SAL:  2.25 g\n",
            "- AZUCAR: 90 g\n",
            "- HUEVOS:  1.8 unidades\n",
            "- MANTEQUILLA:  13.5 g\n"
          ]
        }
      ]
    },
    {
      "cell_type": "code",
      "source": [],
      "metadata": {
        "id": "ehvUEwUGMiBr"
      },
      "execution_count": null,
      "outputs": []
    }
  ]
}